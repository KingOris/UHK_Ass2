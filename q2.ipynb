{
 "cells": [
  {
   "cell_type": "code",
   "execution_count": 1,
   "metadata": {},
   "outputs": [],
   "source": [
    "import requests\n",
    "page = requests.get(\" https://www.imdb.com/chart/top\")"
   ]
  },
  {
   "cell_type": "code",
   "execution_count": 2,
   "metadata": {},
   "outputs": [],
   "source": [
    "import re\n",
    "patter = re"
   ]
  },
  {
   "cell_type": "code",
   "execution_count": 3,
   "metadata": {},
   "outputs": [],
   "source": [
    "urls = re.findall(r'/title/tt+[0-9]+/', page.text)"
   ]
  },
  {
   "cell_type": "code",
   "execution_count": 4,
   "metadata": {},
   "outputs": [],
   "source": [
    "for i in urls:\n",
    "    while urls.count(i) > 1:\n",
    "        urls.remove(i);"
   ]
  },
  {
   "cell_type": "code",
   "execution_count": 5,
   "metadata": {},
   "outputs": [],
   "source": [
    "fo = open(r\"D:\\UID_urls.txt\", \"w\")"
   ]
  },
  {
   "cell_type": "code",
   "execution_count": 6,
   "metadata": {},
   "outputs": [],
   "source": [
    "for i in urls:\n",
    "    fo.write(i+\"\\n\")\n",
    "fo.close()    "
   ]
  },
  {
   "cell_type": "code",
   "execution_count": 7,
   "metadata": {},
   "outputs": [],
   "source": [
    "user_ratings = re.findall(r'[0-9]{1}.[0-9]{1}\\s[a-z]*\\s[a-z]*\\s[0-9\\,]+[a-z\\s]+', page.text)"
   ]
  },
  {
   "cell_type": "code",
   "execution_count": 9,
   "metadata": {},
   "outputs": [
    {
     "name": "stdout",
     "output_type": "stream",
     "text": [
      "250 unique movies in the top chart.\n",
      "here are top six movies' user ratings:\n",
      "No.1:9.2 based on 2,295,963 user ratings\n",
      "No.2:9.1 based on 1,584,770 user ratings\n",
      "No.3:9.0 based on 1,107,240 user ratings\n",
      "No.4:9.0 based on 2,260,620 user ratings\n",
      "No.5:8.9 based on 674,614 user ratings\n",
      "No.6:8.9 based on 1,191,775 user ratings\n"
     ]
    }
   ],
   "source": [
    "print('{} unique movies in the top chart.\\nhere are top six movies{} user ratings:' .format(len(urls),\"'\"))\n",
    "i = 0\n",
    "while i < 6:\n",
    "    print('No.{}:{}'.format(i+1,user_ratings[i]))\n",
    "    i = i+1"
   ]
  },
  {
   "cell_type": "code",
   "execution_count": null,
   "metadata": {},
   "outputs": [],
   "source": []
  },
  {
   "cell_type": "code",
   "execution_count": null,
   "metadata": {},
   "outputs": [],
   "source": []
  }
 ],
 "metadata": {
  "kernelspec": {
   "display_name": "Python 3",
   "language": "python",
   "name": "python3"
  },
  "language_info": {
   "codemirror_mode": {
    "name": "ipython",
    "version": 3
   },
   "file_extension": ".py",
   "mimetype": "text/x-python",
   "name": "python",
   "nbconvert_exporter": "python",
   "pygments_lexer": "ipython3",
   "version": "3.8.6"
  }
 },
 "nbformat": 4,
 "nbformat_minor": 4
}
