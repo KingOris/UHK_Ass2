{
 "cells": [
  {
   "cell_type": "code",
   "execution_count": 4,
   "metadata": {},
   "outputs": [],
   "source": [
    "import requests\n",
    "import csv\n",
    "from bs4 import BeautifulSoup"
   ]
  },
  {
   "cell_type": "code",
   "execution_count": 5,
   "metadata": {},
   "outputs": [],
   "source": [
    "with open(r'D:\\UID_filings.csv','w',newline='')as fo:\n",
    "    writer = csv.writer(fo)\n",
    "    writer.writerow(['Filing Name', 'Filing Date', 'District Court', 'Exchange', 'Ticker'])\n",
    "    for i in range(1,21):\n",
    "        page = requests.get(\"http://securities.stanford.edu/filings.htm?page=\"+str(i))\n",
    "        soup = BeautifulSoup(page.content, 'html.parser')\n",
    "        table = soup.find('table', {'class': 'table table-bordered table-striped table-hover'})\n",
    "        tbody = table.find('tbody')\n",
    "        t_infos = tbody.find_all('tr')\n",
    "        for t_info in t_infos:\n",
    "            t_t_info = t_info.find_all('td')\n",
    "            try:\n",
    "                writer.writerow([t_t_info[0].contents[0].strip(),t_t_info[1].contents[0].strip(),t_t_info[2].contents[0].strip(),t_t_info[3].contents[0].strip(),t_t_info[4].contents[0].strip()])\n",
    "            except IOError:\n",
    "                print(\"Error on page \"+str(i))"
   ]
  },
  {
   "cell_type": "code",
   "execution_count": 6,
   "metadata": {},
   "outputs": [],
   "source": [
    "fo.close()"
   ]
  },
  {
   "cell_type": "code",
   "execution_count": null,
   "metadata": {},
   "outputs": [],
   "source": []
  },
  {
   "cell_type": "code",
   "execution_count": null,
   "metadata": {},
   "outputs": [],
   "source": []
  },
  {
   "cell_type": "code",
   "execution_count": null,
   "metadata": {},
   "outputs": [],
   "source": []
  },
  {
   "cell_type": "code",
   "execution_count": null,
   "metadata": {},
   "outputs": [],
   "source": []
  },
  {
   "cell_type": "code",
   "execution_count": null,
   "metadata": {},
   "outputs": [],
   "source": []
  },
  {
   "cell_type": "code",
   "execution_count": null,
   "metadata": {},
   "outputs": [],
   "source": []
  },
  {
   "cell_type": "code",
   "execution_count": null,
   "metadata": {},
   "outputs": [],
   "source": []
  }
 ],
 "metadata": {
  "kernelspec": {
   "display_name": "Python 3",
   "language": "python",
   "name": "python3"
  },
  "language_info": {
   "codemirror_mode": {
    "name": "ipython",
    "version": 3
   },
   "file_extension": ".py",
   "mimetype": "text/x-python",
   "name": "python",
   "nbconvert_exporter": "python",
   "pygments_lexer": "ipython3",
   "version": "3.8.6"
  }
 },
 "nbformat": 4,
 "nbformat_minor": 4
}
