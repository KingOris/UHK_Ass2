{
 "cells": [
  {
   "cell_type": "code",
   "execution_count": 1,
   "metadata": {},
   "outputs": [],
   "source": [
    "import requests\n",
    "page = requests.get(\"https://www.kickstarter.com/projects/getpebble/pebble-e-paper-watch-for-iphone-and-android\")"
   ]
  },
  {
   "cell_type": "code",
   "execution_count": 2,
   "metadata": {},
   "outputs": [],
   "source": [
    "from bs4 import BeautifulSoup\n",
    "soup = BeautifulSoup(page.content, 'html.parser')"
   ]
  },
  {
   "cell_type": "code",
   "execution_count": 3,
   "metadata": {},
   "outputs": [],
   "source": [
    "t_name= soup.h3.get_text().strip()\n",
    "t_category = soup.find(href=\"/discover/categories/design/product%20design?ref=category\").get_text().strip()\n",
    "t_funds = soup.find(class_=\"money\").get_text().strip()\n",
    "t_backers = soup.find('div',attrs = {'class':'mb0'}).h3.get_text().strip()"
   ]
  },
  {
   "cell_type": "code",
   "execution_count": 4,
   "metadata": {},
   "outputs": [
    {
     "name": "stdout",
     "output_type": "stream",
     "text": [
      "Project Name:Pebble: E-Paper Watch for iPhone and Android\n",
      "Project category:Product Design\n",
      "Total Funds Pledged:$10,266,845\n",
      "Number of Backers:68,929\n"
     ]
    }
   ],
   "source": [
    "print(\"Project Name:{}\".format(t_name))\n",
    "print(\"Project category:{}\".format(t_category))\n",
    "print(\"Total Funds Pledged:{}\".format(t_funds))\n",
    "print(\"Number of Backers:{}\".format(t_backers))"
   ]
  },
  {
   "cell_type": "code",
   "execution_count": null,
   "metadata": {},
   "outputs": [],
   "source": []
  },
  {
   "cell_type": "code",
   "execution_count": null,
   "metadata": {},
   "outputs": [],
   "source": []
  }
 ],
 "metadata": {
  "kernelspec": {
   "display_name": "Python 3",
   "language": "python",
   "name": "python3"
  },
  "language_info": {
   "codemirror_mode": {
    "name": "ipython",
    "version": 3
   },
   "file_extension": ".py",
   "mimetype": "text/x-python",
   "name": "python",
   "nbconvert_exporter": "python",
   "pygments_lexer": "ipython3",
   "version": "3.8.6"
  }
 },
 "nbformat": 4,
 "nbformat_minor": 4
}
